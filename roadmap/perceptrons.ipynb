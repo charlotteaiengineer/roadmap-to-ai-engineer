{
  "cells": [
    {
      "cell_type": "markdown",
      "metadata": {},
      "source": [
        "# Perceptrons\n",
        "\n",
        "<iframe width=\"560\" height=\"315\" src=\"https://www.youtube.com/embed/NXYrIEP1LRs?si=95pjt-OfNECOQArL&amp;start=3534\" title=\"YouTube video player\" frameborder=\"0\" allow=\"accelerometer; autoplay; clipboard-write; encrypted-media; gyroscope; picture-in-picture; web-share\" referrerpolicy=\"strict-origin-when-cross-origin\" allowfullscreen></iframe>\n",
        "\n",
        "![](/images/logicgates.png)\n",
        "\n",
        "perceptrons do have logic gates for AND, OR, and NOT. \n",
        "\n",
        "However...there is no solution for XOR gate.\n",
        "\n",
        "![](/images/xor.png)\n",
        "\n",
        "Until we thought about **Networks of Perceptrons**. Networked elements are required.\n",
        "\n",
        "There is a need for three perceptrons to solve the XOR gate.\n",
        "\n",
        "![](https://cdn-images-1.medium.com/v2/resize:fit:1400/1*qA_APGgbbh0QfRNsRyMaJg.png)\n",
        "\n",
        "When the inidividual outputs of a layer of perceptrons is not needed to be visuallised, we call it a **Hidden Layer**.\n",
        "\n",
        "Once you begin networking the perceptions, you can perform any boolean function. \n",
        "\n",
        "This is deemed a multi-layer perceptron. Perceptrons are arranged in layers.\n",
        "\n",
        "### Linear Classifier\n",
        "\n",
        "A perceptron operates on real-valued vectors.\n",
        "\n",
        "There is a boundary where all inputs are classified as 0 or 1.\n",
        "\n",
        "![](https://i.sstatic.net/epSZC.png)\n",
        "\n",
        "A perceptron defines a boundary (the line and the area) where on the graph its a 0 or 1 on each side of that linear classifier line.\n",
        "\n",
        "You can create a shape with many perceptrons with their own linear classifiers. You create a **boundary**.\n",
        "\n",
        "So you create a region where all perceptrons must output a 1.\n",
        "\n",
        "#### Decision Boundaries\n",
        "\n",
        "<iframe width=\"560\" height=\"315\" src=\"https://www.youtube.com/embed/KJJFfRXFbuc?si=FMy6iF6RVHI2bz0D\" title=\"YouTube video player\" frameborder=\"0\" allow=\"accelerometer; autoplay; clipboard-write; encrypted-media; gyroscope; picture-in-picture; web-share\" referrerpolicy=\"strict-origin-when-cross-origin\" allowfullscreen></iframe>\n",
        "\n",
        "> Finding and fitting a decision boundary to the data is one of the main objectives of Machine Learning\n",
        "\n",
        "<iframe width=\"560\" height=\"315\" src=\"https://www.youtube.com/embed/4Gac5I64LM4?si=7oRb00AooUKyx3qE\" title=\"YouTube video player\" frameborder=\"0\" allow=\"accelerometer; autoplay; clipboard-write; encrypted-media; gyroscope; picture-in-picture; web-share\" referrerpolicy=\"strict-origin-when-cross-origin\" allowfullscreen></iframe>\n",
        "\n",
        "`Converges`, `Coeficiants`\n",
        "\n",
        "For each misclassifcation, we adjust the coeficiants to move the boundary in the direction of the misclassification. If still not classified correctly, we adjust the coeficiants again. This process is called `Gradient Descent`.\n",
        "\n",
        "#### [TensorFlow Playground](https://playground.tensorflow.org/#activation=tanh&batchSize=10&dataset=gauss&regDataset=reg-plane&learningRate=0.03&regularizationRate=0&noise=0&networkShape=4,2&seed=0.89612&showTestData=false&discretize=false&percTrainData=50&x=true&y=true&xTimesY=false&xSquared=false&ySquared=false&cosX=false&sinX=false&cosY=false&sinY=false&collectStats=false&problem=classification&initZero=false&hideText=false)\n",
        "\n",
        "> Build a network that isolates the region within the region we wish to classify.\n",
        "\n",
        "> Individual perceptrons capture linear boundaries\n",
        "\n",
        "<iframe width=\"560\" height=\"315\" src=\"https://www.youtube.com/embed/-KLnurhX-Pg?si=1edq6KfRc6d-m-Rg\" title=\"YouTube video player\" frameborder=\"0\" allow=\"accelerometer; autoplay; clipboard-write; encrypted-media; gyroscope; picture-in-picture; web-share\" referrerpolicy=\"strict-origin-when-cross-origin\" allowfullscreen></iframe>\n"
      ]
    },
    {
      "cell_type": "code",
      "execution_count": 6,
      "metadata": {},
      "outputs": [
        {
          "name": "stdout",
          "output_type": "stream",
          "text": [
            "0.04000000000000001\n",
            "0.19\n",
            "0.31\n",
            "Output: 0\n"
          ]
        }
      ],
      "source": [
        "x_input = [0.1, 0.5, 0.2]\n",
        "w_weights = [0.4, 0.3, 0.6]\n",
        "threshold = 0.5\n",
        "\n",
        "def step_function(weighted_sum):\n",
        "    if weighted_sum > threshold:\n",
        "        return 1\n",
        "    else:\n",
        "        return 0\n",
        "\n",
        "def perceptron():\n",
        "    weighted_sum = 0 \n",
        "    for x,w in zip(x_input, w_weights):\n",
        "        weighted_sum += x*w\n",
        "        print(weighted_sum)\n",
        "    return step_function(weighted_sum)\n",
        "\n",
        "output = perceptron()\n",
        "print(\"Output:\", str(output))\n",
        "\n"
      ]
    },
    {
      "cell_type": "markdown",
      "metadata": {},
      "source": [
        "Each iteration is increasing our weighted sum, at the end we reached 0.31 which was smaller than the threshold of 0.5, therefore the output is 0"
      ]
    },
    {
      "cell_type": "code",
      "execution_count": null,
      "metadata": {},
      "outputs": [],
      "source": []
    }
  ],
  "metadata": {
    "kernelspec": {
      "display_name": "Python 3",
      "language": "python",
      "name": "python3"
    },
    "language_info": {
      "codemirror_mode": {
        "name": "ipython",
        "version": 3
      },
      "file_extension": ".py",
      "mimetype": "text/x-python",
      "name": "python",
      "nbconvert_exporter": "python",
      "pygments_lexer": "ipython3",
      "version": "3.9.6"
    }
  },
  "nbformat": 4,
  "nbformat_minor": 2
}
