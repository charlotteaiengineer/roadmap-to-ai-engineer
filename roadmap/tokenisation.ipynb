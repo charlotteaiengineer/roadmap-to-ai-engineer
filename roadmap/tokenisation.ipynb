{
 "cells": [
  {
   "cell_type": "markdown",
   "id": "f1afe3b9",
   "metadata": {},
   "source": [
    "# Tokenisation\n",
    "\n",
    "<iframe width=\"560\" height=\"315\" src=\"https://www.youtube.com/embed/zduSFxRajkE?si=7U1IDwsVn20kq2Xe\" title=\"YouTube video player\" frameborder=\"0\" allow=\"accelerometer; autoplay; clipboard-write; encrypted-media; gyroscope; picture-in-picture; web-share\" referrerpolicy=\"strict-origin-when-cross-origin\" allowfullscreen></iframe>"
   ]
  },
  {
   "cell_type": "code",
   "execution_count": null,
   "id": "9fdec8fb",
   "metadata": {},
   "outputs": [],
   "source": []
  }
 ],
 "metadata": {
  "language_info": {
   "name": "python"
  }
 },
 "nbformat": 4,
 "nbformat_minor": 5
}
