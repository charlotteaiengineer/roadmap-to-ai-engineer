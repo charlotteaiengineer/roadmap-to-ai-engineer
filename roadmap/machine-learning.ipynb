{
 "cells": [
  {
   "cell_type": "markdown",
   "id": "c26ccf8e",
   "metadata": {},
   "source": [
    "# Machine Learning\n",
    "\n",
    "[A Practical Guide to Machine Learning with TensorFlow 2.0 & Keras by Vadim Karpusenko](https://frontendmasters.com/courses/practical-machine-learning/)"
   ]
  },
  {
   "cell_type": "code",
   "execution_count": 2,
   "id": "7b3950c3",
   "metadata": {},
   "outputs": [
    {
     "name": "stdout",
     "output_type": "stream",
     "text": [
      "2.20.0\n"
     ]
    }
   ],
   "source": [
    "import tensorflow as tf\n",
    "print(tf.__version__)"
   ]
  },
  {
   "cell_type": "markdown",
   "id": "08ef47a1",
   "metadata": {},
   "source": []
  },
  {
   "cell_type": "code",
   "execution_count": null,
   "id": "9be479a9",
   "metadata": {},
   "outputs": [],
   "source": []
  }
 ],
 "metadata": {
  "kernelspec": {
   "display_name": "Python 3",
   "language": "python",
   "name": "python3"
  },
  "language_info": {
   "codemirror_mode": {
    "name": "ipython",
    "version": 3
   },
   "file_extension": ".py",
   "mimetype": "text/x-python",
   "name": "python",
   "nbconvert_exporter": "python",
   "pygments_lexer": "ipython3",
   "version": "3.9.6"
  }
 },
 "nbformat": 4,
 "nbformat_minor": 5
}
