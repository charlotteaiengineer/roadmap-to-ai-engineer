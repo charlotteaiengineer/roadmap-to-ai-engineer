{
  "cells": [
    {
      "cell_type": "markdown",
      "metadata": {},
      "source": [
        "## Minimal transcript → .txt (no timestamps)\n",
        "\n",
        "- Edit the `VIDEO_INPUT` and `LANGUAGES` below.\n",
        "- Run the cell to write `transcript.txt` in the current working directory.\n",
        "\n",
        "Reference: https://pypi.org/project/youtube-transcript-api/\n"
      ]
    },
    {
      "cell_type": "code",
      "execution_count": 2,
      "metadata": {},
      "outputs": [
        {
          "name": "stdout",
          "output_type": "stream",
          "text": [
            "Saved: transcript.txt\n"
          ]
        }
      ],
      "source": [
        "# If not installed, uncomment the next line to install\n",
        "# %pip install youtube-transcript-api\n",
        "\n",
        "import re\n",
        "from youtube_transcript_api import YouTubeTranscriptApi, NoTranscriptFound, TranscriptsDisabled, CouldNotRetrieveTranscript\n",
        "\n",
        "# --- Inputs ---\n",
        "VIDEO_INPUT = \"https://www.youtube.com/watch?v=NXYrIEP1LRs\"  # YouTube URL or raw video ID\n",
        "LANGUAGES = [\"en\"]  # Try these in order\n",
        "OUTPUT_PATH = \"transcript.txt\"\n",
        "\n",
        "\n",
        "def extract_video_id(url_or_id: str) -> str:\n",
        "    s = url_or_id.strip()\n",
        "    m = (\n",
        "        re.search(r\"[?&]v=([A-Za-z0-9_-]{6,})\", s)\n",
        "        or re.search(r\"youtu\\.be/([A-Za-z0-9_-]{6,})\", s)\n",
        "        or re.search(r\"youtube\\.com/(?:embed|shorts)/([A-Za-z0-9_-]{6,})\", s)\n",
        "    )\n",
        "    return m.group(1) if m else s\n",
        "\n",
        "\n",
        "try:\n",
        "    vid = extract_video_id(VIDEO_INPUT)\n",
        "    fetched = YouTubeTranscriptApi().fetch(vid, languages=LANGUAGES)\n",
        "    # Join snippet texts (no timestamps)\n",
        "    text = \"\\n\".join(snippet.text for snippet in fetched if snippet.text.strip())\n",
        "    if not text:\n",
        "        raise RuntimeError(\"Transcript fetched but empty.\")\n",
        "    with open(OUTPUT_PATH, \"w\", encoding=\"utf-8\") as f:\n",
        "        f.write(text)\n",
        "    print(f\"Saved: {OUTPUT_PATH}\")\n",
        "except NoTranscriptFound:\n",
        "    print(\"No transcript found for requested languages:\", LANGUAGES)\n",
        "except TranscriptsDisabled:\n",
        "    print(\"Transcripts are disabled for this video.\")\n",
        "except CouldNotRetrieveTranscript:\n",
        "    print(\"Could not retrieve transcript due to a YouTube/network error. Try again later.\")\n",
        "except Exception as e:\n",
        "    print(\"Error:\", e)\n"
      ]
    }
  ],
  "metadata": {
    "kernelspec": {
      "display_name": "Python 3",
      "language": "python",
      "name": "python3"
    },
    "language_info": {
      "codemirror_mode": {
        "name": "ipython",
        "version": 3
      },
      "file_extension": ".py",
      "mimetype": "text/x-python",
      "name": "python",
      "nbconvert_exporter": "python",
      "pygments_lexer": "ipython3",
      "version": "3.9.6"
    }
  },
  "nbformat": 4,
  "nbformat_minor": 2
}
